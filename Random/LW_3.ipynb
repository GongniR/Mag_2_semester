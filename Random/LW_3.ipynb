{
 "cells": [
  {
   "cell_type": "code",
   "execution_count": 13,
   "metadata": {},
   "outputs": [],
   "source": [
    "import math\n",
    "import os\n",
    "import random\n",
    "import re \n",
    "import numpy as np "
   ]
  },
  {
   "cell_type": "code",
   "execution_count": 69,
   "metadata": {},
   "outputs": [],
   "source": [
    "path_text = r'E:\\GitHub\\Mag_2_semester\\Random\\text.txt'"
   ]
  },
  {
   "cell_type": "code",
   "execution_count": 84,
   "metadata": {},
   "outputs": [],
   "source": [
    "with open(path_text, 'r') as file:\n",
    "    text = file.read()"
   ]
  },
  {
   "cell_type": "code",
   "execution_count": 85,
   "metadata": {},
   "outputs": [
    {
     "data": {
      "text/plain": [
       "'Всю свою жизнь прилежно учись. Каждый день становись более искусным, чем ты был за день до этого, а на следующий день — более искусным, чем сегодня. Совершенствование не имеет конца.Будь верен текущей мысли и не отвлекайся. Вместо того, чтобы изнурять себя многими мыслями, следуй одной, но позволяй ей меняться от мгновения к мгновению. Когда приходит время, размышлять некогда. И если ты не успел обдумать всё заранее, скорее всего ты опозоришь себя.'"
      ]
     },
     "execution_count": 85,
     "metadata": {},
     "output_type": "execute_result"
    }
   ],
   "source": [
    "text"
   ]
  },
  {
   "cell_type": "code",
   "execution_count": 86,
   "metadata": {},
   "outputs": [],
   "source": [
    "# удалить знаки \n",
    "output_text = re.sub(r'[^\\w\\s]','', text)"
   ]
  },
  {
   "cell_type": "code",
   "execution_count": 87,
   "metadata": {},
   "outputs": [],
   "source": [
    "output_text = output_text.split()"
   ]
  },
  {
   "cell_type": "code",
   "execution_count": 88,
   "metadata": {},
   "outputs": [
    {
     "data": {
      "text/plain": [
       "['Всю',\n",
       " 'свою',\n",
       " 'жизнь',\n",
       " 'прилежно',\n",
       " 'учись',\n",
       " 'Каждый',\n",
       " 'день',\n",
       " 'становись',\n",
       " 'более',\n",
       " 'искусным',\n",
       " 'чем',\n",
       " 'ты',\n",
       " 'был',\n",
       " 'за',\n",
       " 'день',\n",
       " 'до',\n",
       " 'этого',\n",
       " 'а',\n",
       " 'на',\n",
       " 'следующий',\n",
       " 'день',\n",
       " 'более',\n",
       " 'искусным',\n",
       " 'чем',\n",
       " 'сегодня',\n",
       " 'Совершенствование',\n",
       " 'не',\n",
       " 'имеет',\n",
       " 'концаБудь',\n",
       " 'верен',\n",
       " 'текущей',\n",
       " 'мысли',\n",
       " 'и',\n",
       " 'не',\n",
       " 'отвлекайся',\n",
       " 'Вместо',\n",
       " 'того',\n",
       " 'чтобы',\n",
       " 'изнурять',\n",
       " 'себя',\n",
       " 'многими',\n",
       " 'мыслями',\n",
       " 'следуй',\n",
       " 'одной',\n",
       " 'но',\n",
       " 'позволяй',\n",
       " 'ей',\n",
       " 'меняться',\n",
       " 'от',\n",
       " 'мгновения',\n",
       " 'к',\n",
       " 'мгновению',\n",
       " 'Когда',\n",
       " 'приходит',\n",
       " 'время',\n",
       " 'размышлять',\n",
       " 'некогда',\n",
       " 'И',\n",
       " 'если',\n",
       " 'ты',\n",
       " 'не',\n",
       " 'успел',\n",
       " 'обдумать',\n",
       " 'всё',\n",
       " 'заранее',\n",
       " 'скорее',\n",
       " 'всего',\n",
       " 'ты',\n",
       " 'опозоришь',\n",
       " 'себя']"
      ]
     },
     "execution_count": 88,
     "metadata": {},
     "output_type": "execute_result"
    }
   ],
   "source": [
    "output_text"
   ]
  },
  {
   "cell_type": "code",
   "execution_count": 89,
   "metadata": {},
   "outputs": [],
   "source": [
    "class Chain(dict):\n",
    "    def __init__(self, iterable=None):\n",
    "        super(Chain, self).__init__()\n",
    "        self.types = 0  # число уникальных ключей в распределении\n",
    "        self.tokens = 0  # общее количество всех слов в распределении\n",
    "        if iterable:\n",
    "            self.update(iterable)\n",
    "\n",
    "    def update(self, iterable):\n",
    "\n",
    "        for item in iterable:\n",
    "            if item in self:\n",
    "                self[item] += 1\n",
    "                self.tokens += 1\n",
    "            else:\n",
    "                self[item] = 1\n",
    "                self.types += 1\n",
    "                self.tokens += 1\n",
    "  \n",
    "    def return_weighted_random_word(self):\n",
    "        random_int = random.randint(0, self.tokens-1)\n",
    "        index = 0\n",
    "        list_of_keys = list(self.keys())\n",
    "        # вывести 'случайный индекс:', random_int\n",
    "        for i in range(0, self.types):\n",
    "            index += self[list_of_keys[i]]\n",
    "            # вывести индекс\n",
    "            if(index > random_int):\n",
    "                # вывести list_of_keys[i]\n",
    "                return list_of_keys[i]"
   ]
  },
  {
   "cell_type": "code",
   "execution_count": 90,
   "metadata": {},
   "outputs": [],
   "source": [
    "def make_markov_model(data):\n",
    "    markov_model = dict()\n",
    "\n",
    "    for i in range(0, len(data)-1):\n",
    "        if data[i] in markov_model:\n",
    "            # Просто присоединяем к уже существующему распределению\n",
    "            markov_model[data[i]].update([data[i+1]])\n",
    "        else:\n",
    "            markov_model[data[i]] = Chain([data[i+1]])\n",
    "    return markov_model"
   ]
  },
  {
   "cell_type": "code",
   "execution_count": 91,
   "metadata": {},
   "outputs": [],
   "source": [
    "model = make_markov_model(output_text)"
   ]
  },
  {
   "cell_type": "code",
   "execution_count": 92,
   "metadata": {},
   "outputs": [
    {
     "data": {
      "text/plain": [
       "{'Всю': {'свою': 1},\n",
       " 'свою': {'жизнь': 1},\n",
       " 'жизнь': {'прилежно': 1},\n",
       " 'прилежно': {'учись': 1},\n",
       " 'учись': {'Каждый': 1},\n",
       " 'Каждый': {'день': 1},\n",
       " 'день': {'становись': 1, 'до': 1, 'более': 1},\n",
       " 'становись': {'более': 1},\n",
       " 'более': {'искусным': 2},\n",
       " 'искусным': {'чем': 2},\n",
       " 'чем': {'ты': 1, 'сегодня': 1},\n",
       " 'ты': {'был': 1, 'не': 1, 'опозоришь': 1},\n",
       " 'был': {'за': 1},\n",
       " 'за': {'день': 1},\n",
       " 'до': {'этого': 1},\n",
       " 'этого': {'а': 1},\n",
       " 'а': {'на': 1},\n",
       " 'на': {'следующий': 1},\n",
       " 'следующий': {'день': 1},\n",
       " 'сегодня': {'Совершенствование': 1},\n",
       " 'Совершенствование': {'не': 1},\n",
       " 'не': {'имеет': 1, 'отвлекайся': 1, 'успел': 1},\n",
       " 'имеет': {'концаБудь': 1},\n",
       " 'концаБудь': {'верен': 1},\n",
       " 'верен': {'текущей': 1},\n",
       " 'текущей': {'мысли': 1},\n",
       " 'мысли': {'и': 1},\n",
       " 'и': {'не': 1},\n",
       " 'отвлекайся': {'Вместо': 1},\n",
       " 'Вместо': {'того': 1},\n",
       " 'того': {'чтобы': 1},\n",
       " 'чтобы': {'изнурять': 1},\n",
       " 'изнурять': {'себя': 1},\n",
       " 'себя': {'многими': 1},\n",
       " 'многими': {'мыслями': 1},\n",
       " 'мыслями': {'следуй': 1},\n",
       " 'следуй': {'одной': 1},\n",
       " 'одной': {'но': 1},\n",
       " 'но': {'позволяй': 1},\n",
       " 'позволяй': {'ей': 1},\n",
       " 'ей': {'меняться': 1},\n",
       " 'меняться': {'от': 1},\n",
       " 'от': {'мгновения': 1},\n",
       " 'мгновения': {'к': 1},\n",
       " 'к': {'мгновению': 1},\n",
       " 'мгновению': {'Когда': 1},\n",
       " 'Когда': {'приходит': 1},\n",
       " 'приходит': {'время': 1},\n",
       " 'время': {'размышлять': 1},\n",
       " 'размышлять': {'некогда': 1},\n",
       " 'некогда': {'И': 1},\n",
       " 'И': {'если': 1},\n",
       " 'если': {'ты': 1},\n",
       " 'успел': {'обдумать': 1},\n",
       " 'обдумать': {'всё': 1},\n",
       " 'всё': {'заранее': 1},\n",
       " 'заранее': {'скорее': 1},\n",
       " 'скорее': {'всего': 1},\n",
       " 'всего': {'ты': 1},\n",
       " 'опозоришь': {'себя': 1}}"
      ]
     },
     "execution_count": 92,
     "metadata": {},
     "output_type": "execute_result"
    }
   ],
   "source": [
    "model"
   ]
  },
  {
   "cell_type": "code",
   "execution_count": 93,
   "metadata": {},
   "outputs": [],
   "source": [
    "def generate_random_sentence(length, markov_model):\n",
    "    current_word =   np.random.choice(list(markov_model.keys()))\n",
    "    sentence = [current_word]\n",
    "    for i in range(0, length):\n",
    "        current_dictogram = markov_model[current_word]\n",
    "        random_weighted_word = current_dictogram.return_weighted_random_word()\n",
    "        current_word = random_weighted_word\n",
    "        sentence.append(current_word)\n",
    "    sentence[0] = sentence[0].capitalize()\n",
    "    return ' '.join(sentence) + '.'\n"
   ]
  },
  {
   "cell_type": "code",
   "execution_count": 94,
   "metadata": {},
   "outputs": [
    {
     "data": {
      "text/plain": [
       "'За день более искусным чем сегодня Совершенствование не отвлекайся Вместо того чтобы изнурять себя многими мыслями следуй одной но позволяй ей меняться от мгновения к мгновению Когда приходит время размышлять некогда И если ты не имеет концаБудь верен текущей мысли и не отвлекайся Вместо того чтобы изнурять себя многими мыслями следуй одной но позволяй ей меняться от мгновения к мгновению Когда приходит время размышлять некогда И если ты опозоришь себя многими мыслями следуй одной но позволяй ей меняться от мгновения к мгновению Когда приходит время размышлять некогда И если ты опозоришь себя многими мыслями следуй одной но позволяй ей меняться от.'"
      ]
     },
     "execution_count": 94,
     "metadata": {},
     "output_type": "execute_result"
    }
   ],
   "source": [
    "generate_random_sentence(100, model)"
   ]
  }
 ],
 "metadata": {
  "kernelspec": {
   "display_name": "tensorflow",
   "language": "python",
   "name": "python3"
  },
  "language_info": {
   "codemirror_mode": {
    "name": "ipython",
    "version": 3
   },
   "file_extension": ".py",
   "mimetype": "text/x-python",
   "name": "python",
   "nbconvert_exporter": "python",
   "pygments_lexer": "ipython3",
   "version": "3.9.13"
  },
  "orig_nbformat": 4
 },
 "nbformat": 4,
 "nbformat_minor": 2
}
