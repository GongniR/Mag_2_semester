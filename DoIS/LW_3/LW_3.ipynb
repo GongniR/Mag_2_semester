{
 "cells": [
  {
   "cell_type": "code",
   "execution_count": 1,
   "metadata": {},
   "outputs": [],
   "source": [
    "import numpy as np \n",
    "from tensorflow.keras.datasets import mnist\n",
    "import matplotlib.pyplot as plt\n",
    "from PIL import Image\n",
    "import pandas as pd\n",
    "import seaborn as sn"
   ]
  },
  {
   "attachments": {},
   "cell_type": "markdown",
   "metadata": {},
   "source": [
    "# Загрузка и предобработка данных"
   ]
  },
  {
   "cell_type": "code",
   "execution_count": 2,
   "metadata": {},
   "outputs": [],
   "source": [
    "def to_categorical(label_array, count_number=10):\n",
    "    \"\"\"Пердставить лейбал в виде массива со значением\"\"\"\n",
    "    label_array = np.array(label_array) \n",
    "    n = label_array.shape[0]\n",
    "    categorical = np.zeros((n, count_number))\n",
    "    categorical[np.arange(n), label_array] = 1\n",
    "    return categorical\n"
   ]
  },
  {
   "cell_type": "code",
   "execution_count": 3,
   "metadata": {},
   "outputs": [],
   "source": [
    "def load_data():\n",
    "    \"\"\"Загрузка датасета\"\"\"\n",
    "    (train_X, train_Y), (test_X, test_Y) = mnist.load_data()\n",
    "\n",
    "    print(train_X.shape)\n",
    "    # преобразование в 1 канал \n",
    "    train_X = train_X.reshape((train_X.shape[0], 28, 28))/255.\n",
    "    test_X = test_X.reshape((test_X.shape[0], 28, 28))/255.\n",
    "    \n",
    "    # перевод в one hot encoder \n",
    "    train_Y = to_categorical(train_Y)\n",
    "    test_Y = to_categorical(test_Y)\n",
    "\n",
    "    return (train_X.round(), train_Y), (test_X.round(), test_Y)"
   ]
  },
  {
   "cell_type": "code",
   "execution_count": 4,
   "metadata": {},
   "outputs": [
    {
     "name": "stdout",
     "output_type": "stream",
     "text": [
      "(60000, 28, 28)\n"
     ]
    }
   ],
   "source": [
    "(train_X, train_Y), (test_X, test_Y) = load_data()"
   ]
  },
  {
   "cell_type": "code",
   "execution_count": 5,
   "metadata": {},
   "outputs": [
    {
     "data": {
      "text/plain": [
       "1.0"
      ]
     },
     "execution_count": 5,
     "metadata": {},
     "output_type": "execute_result"
    }
   ],
   "source": [
    "train_X[1].max()"
   ]
  },
  {
   "cell_type": "code",
   "execution_count": 6,
   "metadata": {},
   "outputs": [
    {
     "data": {
      "text/plain": [
       "array([[0., 0., 0., 0., 0., 1., 0., 0., 0., 0.],\n",
       "       [1., 0., 0., 0., 0., 0., 0., 0., 0., 0.],\n",
       "       [0., 0., 0., 0., 1., 0., 0., 0., 0., 0.],\n",
       "       [0., 1., 0., 0., 0., 0., 0., 0., 0., 0.],\n",
       "       [0., 0., 0., 0., 0., 0., 0., 0., 0., 1.],\n",
       "       [0., 0., 1., 0., 0., 0., 0., 0., 0., 0.],\n",
       "       [0., 1., 0., 0., 0., 0., 0., 0., 0., 0.],\n",
       "       [0., 0., 0., 1., 0., 0., 0., 0., 0., 0.],\n",
       "       [0., 1., 0., 0., 0., 0., 0., 0., 0., 0.],\n",
       "       [0., 0., 0., 0., 1., 0., 0., 0., 0., 0.]])"
      ]
     },
     "execution_count": 6,
     "metadata": {},
     "output_type": "execute_result"
    }
   ],
   "source": [
    "train_Y[:10]"
   ]
  },
  {
   "cell_type": "code",
   "execution_count": 7,
   "metadata": {},
   "outputs": [
    {
     "data": {
      "image/png": "[encoded data removed]",
      "text/plain": [
       "<Figure size 640x480 with 10 Axes>"
      ]
     },
     "metadata": {},
     "output_type": "display_data"
    }
   ],
   "source": [
    "f  = plt.figure()\n",
    "for i, image  in enumerate(train_X[:10]):\n",
    "    f.add_subplot(1,10, i+1)\n",
    "    plt.imshow(image, cmap=\"gray\")\n",
    "plt.show()"
   ]
  },
  {
   "cell_type": "code",
   "execution_count": null,
   "metadata": {},
   "outputs": [],
   "source": []
  },
  {
   "cell_type": "code",
   "execution_count": 366,
   "metadata": {},
   "outputs": [],
   "source": [
    "class Softmax:\n",
    "    def forward(self, x):\n",
    "        x = x - np.max(x)\n",
    "        self.p = np.exp(x) / np.sum(np.exp(x))\n",
    "        return self.p\n",
    "\n",
    "    def backward(self, dz):\n",
    "        jacobian = np.diag(dz)\n",
    "        for i in range(len(jacobian)):\n",
    "            for j in range(len(jacobian)):\n",
    "                if i == j:\n",
    "                    jacobian[i][j] = self.p[i] * (1 - self.p[j])\n",
    "                else:\n",
    "                    jacobian[i][j] = -self.p[i] * self.p[j]\n",
    "        return np.matmul(dz, jacobian)\n",
    "\n",
    "\n",
    "\n",
    "class ReLu:\n",
    "    def forward(self, x):\n",
    "        self.x = x\n",
    "        return np.maximum(0, x)\n",
    "\n",
    "    def backward(self, dz):\n",
    "        dz[self.x < 0] = 0\n",
    "        return dz"
   ]
  },
  {
   "cell_type": "code",
   "execution_count": 7,
   "metadata": {},
   "outputs": [],
   "source": [
    "def accuracy(y_pred, y_true):\n",
    "        y_pred = np.array(y_pred)\n",
    "        y_true = np.array(y_true)\n",
    "        return (y_pred==y_true).sum()/y_true.size\n",
    "    \n",
    "    "
   ]
  },
  {
   "cell_type": "code",
   "execution_count": 27,
   "metadata": {},
   "outputs": [],
   "source": [
    "class LinearLayer:\n",
    "    def __init__(self, in_size, out_size):\n",
    "        stdv = 1/np.sqrt(in_size)\n",
    "        self.W = np.random.uniform(-stdv, stdv, size=(in_size, out_size))\n",
    "        self.b = np.random.uniform(-stdv, stdv, size=out_size)\n",
    "\n",
    "    def forward(self, x):\n",
    "        self.x = x\n",
    "        return np.dot(x, self.W) + self.b\n",
    "\n",
    "    def backward(self, dz, learning_rate=0.001, update=True):\n",
    "        self.dx = np.dot(dz, self.W.T)\n",
    "        return self.dx\n",
    "\n",
    "class Sigmoid:\n",
    "    def forward(self, input):\n",
    "        self.output = 1 / (1 + np.exp(-input))\n",
    "        return self.output\n",
    "\n",
    "    def backward(self, grad_output):\n",
    "        return self.output * (1 - self.output) * grad_output\n",
    "\n",
    "class Softmax:\n",
    "    def forward(self, input):\n",
    "        exp_input = np.exp(input)\n",
    "        self.output = exp_input / np.sum(exp_input, axis=0, keepdims=True)\n",
    "        return self.output\n",
    "\n",
    "    def backward(self, grad_output):\n",
    "        grad_input = self.output * (grad_output - np.sum(self.output * grad_output, axis=0, keepdims=True))\n",
    "        return grad_input\n",
    "\n",
    "class Perceptron:\n",
    "    def __init__(self):\n",
    "        self.d1_layer = LinearLayer(784, 100)\n",
    "        self.a1_layer = Sigmoid()\n",
    "\n",
    "        self.d2_layer = LinearLayer(100, 50)\n",
    "        self.a2_layer = Sigmoid()\n",
    "\n",
    "        self.d3_layer = LinearLayer(50, 10)\n",
    "        self.a3_layer = Sigmoid()\n",
    "\n",
    "    def forward(self, x, train=True):\n",
    "        x = x.reshape((1, -1))\n",
    "        net = self.d1_layer.forward(x)\n",
    "        net = self.a1_layer.forward(net)\n",
    "\n",
    "        net = self.d2_layer.forward(net)\n",
    "        net = self.a2_layer.forward(net)\n",
    "\n",
    "        net = self.d3_layer.forward(net)\n",
    "        net = self.a3_layer.forward(net)\n",
    "\n",
    "        return net\n",
    "\n",
    "    def backward(self, dz, learning_rate=0.001, update=False):\n",
    "        # дельта на выходном слои 3\n",
    "        dz_1 = self.a3_layer.backward(dz)\n",
    "\n",
    "        # дельта на выходном слои 2\n",
    "        dz_2 = self.d3_layer.backward(dz_1, learning_rate=learning_rate, update=update)\n",
    "        dz_2 = self.a2_layer.backward(dz_2)\n",
    "        # дельта на выходном слои 1 \n",
    "        dz_3 = self.d2_layer.backward(dz_2, learning_rate=learning_rate, update=update)\n",
    "        dz_3 = self.a1_layer.backward(dz_3)\n",
    "\n",
    "        # меняем веса по ошибке \n",
    "        self.d1_layer.W  +=  dz_3*self.d1_layer.x.T*learning_rate\n",
    "        self.d2_layer.W  +=   dz_2*self.d2_layer.x.T*learning_rate\n",
    "        self.d3_layer.W  +=  dz_1*self.d3_layer.x.T*learning_rate\n",
    "        # dz_3 = self.d1_layer.backward(dz_3, learning_rate=learning_rate, update=update)\n",
    "\n",
    "        return dz\n",
    "\n",
    "    def train(self, X_, Y_, epochs, count_data=1000, lr=0.001, save_itr=False):\n",
    "        for epoch in range(epochs):\n",
    "            for i in range(len(X_[:count_data])):\n",
    "                x = X_[i].flatten()\n",
    "                \n",
    "                y_pred = self.forward(x)\n",
    "                error = Y_[i] - y_pred\n",
    "                dz = error\n",
    "                self.backward(dz, lr, update=True)\n",
    "            \n",
    "            y_true = []\n",
    "            y_pred = []\n",
    "            for x, y in zip(test_X, test_Y):\n",
    "                y_true.append(np.argmax(y))\n",
    "                y_ = self.forward(x)\n",
    "                y_pred.append((np.argmax(y_))) \n",
    "            \n",
    "            print(\"Accuracy:\", accuracy(y_pred, y_true) * 100)\n",
    "    \n",
    "    def predict(self, image):\n",
    "        x = image.flatten()\n",
    "        x = x  # Масштабирование значений пикселей в диапазоне от 0 до 1\n",
    "        y_pred = self.forward(x)\n",
    "        return np.argmax(y_pred)\n",
    "\n"
   ]
  },
  {
   "cell_type": "code",
   "execution_count": 28,
   "metadata": {},
   "outputs": [
    {
     "name": "stdout",
     "output_type": "stream",
     "text": [
      "Accuracy: 90.52\n"
     ]
    }
   ],
   "source": [
    "model = Perceptron()\n",
    "model.train(train_X,train_Y,1, 60000, 0.01)"
   ]
  },
  {
   "cell_type": "code",
   "execution_count": 11,
   "metadata": {},
   "outputs": [],
   "source": [
    "model = Perceptron()"
   ]
  },
  {
   "attachments": {},
   "cell_type": "markdown",
   "metadata": {},
   "source": [
    "T_test[0]"
   ]
  },
  {
   "cell_type": "code",
   "execution_count": 31,
   "metadata": {},
   "outputs": [
    {
     "data": {
      "text/plain": [
       "array([1., 0., 0., 0., 0., 0., 0., 0., 0., 0.])"
      ]
     },
     "execution_count": 31,
     "metadata": {},
     "output_type": "execute_result"
    }
   ],
   "source": [
    "train_Y[1]"
   ]
  },
  {
   "cell_type": "code",
   "execution_count": 32,
   "metadata": {},
   "outputs": [
    {
     "data": {
      "text/plain": [
       "0"
      ]
     },
     "execution_count": 32,
     "metadata": {},
     "output_type": "execute_result"
    }
   ],
   "source": [
    "model.predict(train_X[1])"
   ]
  },
  {
   "attachments": {},
   "cell_type": "markdown",
   "metadata": {},
   "source": [
    "# Статистика обучения"
   ]
  },
  {
   "cell_type": "code",
   "execution_count": 92,
   "metadata": {},
   "outputs": [],
   "source": [
    "def stat(perceptron_: Percepton):\n",
    "    def confusion_matrix(y_pred, y_true):\n",
    "\n",
    "        classes = np.unique(y_true)\n",
    "        classes.sort()\n",
    "        conf_m = np.zeros(shape=(len(classes), len(classes)))\n",
    "        for i in classes:\n",
    "            for j in classes:\n",
    "                conf_m[i, j] = np.logical_and((y_pred==i), (y_true==j)).sum()\n",
    "        return conf_m, classes\n",
    "    \n",
    "    def accuracy(y_pred, y_true):\n",
    "        y_pred = np.array(y_pred)\n",
    "        y_true = np.array(y_true)\n",
    "        return (y_pred==y_true).sum()/y_true.size\n",
    "    \n",
    "    y_true = []\n",
    "    y_pred = []\n",
    "    for x, y in zip(test_X,test_Y):\n",
    "        y_true.append(np.argmax(y))\n",
    "        y_pred.append(perceptron_.pred(x)) \n",
    "        \n",
    "    confusion_matrix = confusion_matrix(y_pred,y_true)\n",
    "    print(\"Accuracy:\",accuracy(y_pred, y_true)*100)\n",
    "    df_cm = pd.DataFrame(confusion_matrix[0], range(10), range(10))\n",
    "\n",
    "    sn.set(font_scale=1.4) # for label size\n",
    "    sn.heatmap(df_cm, annot=True, annot_kws={\"size\": 8},fmt='g',cmap=\"Greens\") # font size\n",
    "    plt.show()"
   ]
  },
  {
   "cell_type": "code",
   "execution_count": 13,
   "metadata": {},
   "outputs": [],
   "source": [
    "def view_weigts(perceptron_:Percepton):\n",
    "    f  = plt.figure(figsize=(20,20))\n",
    "    for size, i in enumerate(perceptron_.W.T):\n",
    "        f.add_subplot(5,5, size+1)\n",
    "        plt.grid(False)\n",
    "        plt.imshow(i.reshape((28,28)), cmap='gray')\n",
    "    \n",
    "    plt.show()"
   ]
  },
  {
   "attachments": {},
   "cell_type": "markdown",
   "metadata": {},
   "source": [
    "# Тесты"
   ]
  },
  {
   "cell_type": "code",
   "execution_count": 73,
   "metadata": {},
   "outputs": [],
   "source": [
    "test_1 = { \"count_data\": [5000,5000,5000], \"epochs\": [1,1,1], \"lr\":[0.001,0.001,0.001]}\n",
    "test_2 = { \"count_data\": [5000,5000,5000], \"epochs\": [1,1,1], \"lr\":[0.01,0.01,0.01]}\n",
    "test_3 = { \"count_data\": [5000,5000,5000], \"epochs\": [1,1,1], \"lr\":[0.1,0.1,0.1]}\n",
    "\n"
   ]
  },
  {
   "cell_type": "code",
   "execution_count": 74,
   "metadata": {},
   "outputs": [],
   "source": [
    "def get_test(test):\n",
    "\n",
    "    for i in range(len(test['count_data'])):\n",
    "        print(\"Кол-во обучающих данных:\", test['count_data'][i])\n",
    "        print(\"Кол-во эпох:\", test['epochs'][i])\n",
    "        print(\"Скорость обучения:\", test['lr'][i])\n",
    "        perceptron_1 = Percepton()\n",
    "        perceptron_1.train(train_X,train_Y,test[\"epochs\"][i], test[\"count_data\"][i], test['lr'][i])\n",
    "        stat(perceptron_1)\n",
    "        view_weigts(perceptron_1)\n",
    "\n",
    "    "
   ]
  }
 ],
 "metadata": {
  "kernelspec": {
   "display_name": "Mag",
   "language": "python",
   "name": "python3"
  },
  "language_info": {
   "codemirror_mode": {
    "name": "ipython",
    "version": 3
   },
   "file_extension": ".py",
   "mimetype": "text/x-python",
   "name": "python",
   "nbconvert_exporter": "python",
   "pygments_lexer": "ipython3",
   "version": "3.9.13"
  },
  "orig_nbformat": 4
 },
 "nbformat": 4,
 "nbformat_minor": 2
}
