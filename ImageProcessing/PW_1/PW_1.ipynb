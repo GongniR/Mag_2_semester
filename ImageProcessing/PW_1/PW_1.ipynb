{
 "cells": [
  {
   "cell_type": "code",
   "execution_count": 2,
   "metadata": {},
   "outputs": [
    {
     "name": "stdout",
     "output_type": "stream",
     "text": [
      "Collecting colormath\n",
      "  Downloading colormath-3.0.0.tar.gz (39 kB)\n",
      "  Preparing metadata (setup.py) ... \u001b[?25ldone\n",
      "\u001b[?25hCollecting numpy\n",
      "  Downloading numpy-1.24.2-cp310-cp310-macosx_10_9_x86_64.whl (19.8 MB)\n",
      "\u001b[2K     \u001b[90m━━━━━━━━━━━━━━━━━━━━━━━━━━━━━━━━━━━━━━━━\u001b[0m \u001b[32m19.8/19.8 MB\u001b[0m \u001b[31m4.5 MB/s\u001b[0m eta \u001b[36m0:00:00\u001b[0m\n",
      "\u001b[?25hCollecting networkx>=2.0\n",
      "  Downloading networkx-3.1-py3-none-any.whl (2.1 MB)\n",
      "\u001b[2K     \u001b[90m━━━━━━━━━━━━━━━━━━━━━━━━━━━━━━━━━━━━━━━━\u001b[0m \u001b[32m2.1/2.1 MB\u001b[0m \u001b[31m6.9 MB/s\u001b[0m eta \u001b[36m0:00:00\u001b[0m\n",
      "\u001b[?25hBuilding wheels for collected packages: colormath\n",
      "  Building wheel for colormath (setup.py) ... \u001b[?25ldone\n",
      "\u001b[?25h  Created wheel for colormath: filename=colormath-3.0.0-py3-none-any.whl size=39409 sha256=bf0e58cb2c648df0aa892ad026dfd7d1f0ee467afd91856c451013be15297ee8\n",
      "  Stored in directory: /Users/dimka777/Library/Caches/pip/wheels/ab/b3/4d/c0738759c25a1df01958068f162cf2a9dc3ab1da8b972cfcfc\n",
      "Successfully built colormath\n",
      "Installing collected packages: numpy, networkx, colormath\n",
      "Successfully installed colormath-3.0.0 networkx-3.1 numpy-1.24.2\n",
      "Note: you may need to restart the kernel to use updated packages.\n"
     ]
    }
   ],
   "source": [
    "pip install colormath"
   ]
  },
  {
   "cell_type": "code",
   "execution_count": 5,
   "metadata": {},
   "outputs": [],
   "source": [
    "from colormath.color_objects import LabColor, HSLColor, HSVColor,LCHabColor,sRGBColor, sRGBColor\n",
    "from colormath.color_conversions import convert_color\n",
    "from colormath.color_diff import delta_e_cie2000, delta_e_cmc, delta_e_cie1994\n",
    "import numpy as np\n"
   ]
  },
  {
   "cell_type": "code",
   "execution_count": 6,
   "metadata": {},
   "outputs": [
    {
     "name": "stdout",
     "output_type": "stream",
     "text": [
      "LAB: LabColor (lab_l:50.0000 lab_a:0.0000 lab_b:0.0000)\n",
      "LCH: LCHabColor (lch_l:50.0000 lch_c:0.0000 lch_h:360.0000)\n",
      "RGB: sRGBColor (rgb_r:0.4663 rgb_g:0.4663 rgb_b:0.4663)\n",
      "HSB: HSVColor (hsv_h:35.4825 hsv_s:0.0001 hsv_v:0.4663)\n",
      "HSL: HSLColor (hsl_h:35.4825 hsl_s:0.0001 hsl_l:0.4663)\n",
      "Revert LCH: LabColor (lab_l:50.0000 lab_a:0.0000 lab_b:-0.0000)\n",
      "Revert RGB: LabColor (lab_l:49.9999 lab_a:0.0002 lab_b:-0.0001)\n",
      "Revert HSB: LabColor (lab_l:49.9999 lab_a:0.0002 lab_b:-0.0001)\n",
      "Revert HSL: LabColor (lab_l:49.9999 lab_a:0.0002 lab_b:-0.0001)\n"
     ]
    },
    {
     "ename": "AttributeError",
     "evalue": "module 'numpy' has no attribute 'asscalar'",
     "output_type": "error",
     "traceback": [
      "\u001b[0;31m---------------------------------------------------------------------------\u001b[0m",
      "\u001b[0;31mAttributeError\u001b[0m                            Traceback (most recent call last)",
      "Cell \u001b[0;32mIn[6], line 27\u001b[0m\n\u001b[1;32m     24\u001b[0m \u001b[38;5;28mprint\u001b[39m(\u001b[38;5;124m\"\u001b[39m\u001b[38;5;124mRevert HSB: \u001b[39m\u001b[38;5;124m\"\u001b[39m \u001b[38;5;241m+\u001b[39m \u001b[38;5;28mstr\u001b[39m(hsb_))\n\u001b[1;32m     25\u001b[0m \u001b[38;5;28mprint\u001b[39m(\u001b[38;5;124m\"\u001b[39m\u001b[38;5;124mRevert HSL: \u001b[39m\u001b[38;5;124m\"\u001b[39m \u001b[38;5;241m+\u001b[39m \u001b[38;5;28mstr\u001b[39m(hsl_))\n\u001b[0;32m---> 27\u001b[0m eLCH \u001b[38;5;241m=\u001b[39m \u001b[43mdelta_e_cmc\u001b[49m\u001b[43m(\u001b[49m\u001b[43mlab\u001b[49m\u001b[43m,\u001b[49m\u001b[43m \u001b[49m\u001b[43mlch_\u001b[49m\u001b[43m)\u001b[49m\n\u001b[1;32m     28\u001b[0m eRGB \u001b[38;5;241m=\u001b[39m delta_e_cmc(lab, rgb_)\n\u001b[1;32m     29\u001b[0m eHSB \u001b[38;5;241m=\u001b[39m delta_e_cmc(lab, hsb_)\n",
      "File \u001b[0;32m~/opt/anaconda3/envs/Mag/lib/python3.10/site-packages/colormath/color_diff.py:95\u001b[0m, in \u001b[0;36mdelta_e_cmc\u001b[0;34m(color1, color2, pl, pc)\u001b[0m\n\u001b[1;32m     92\u001b[0m color2_matrix \u001b[38;5;241m=\u001b[39m _get_lab_color2_matrix(color2)\n\u001b[1;32m     93\u001b[0m delta_e \u001b[38;5;241m=\u001b[39m color_diff_matrix\u001b[38;5;241m.\u001b[39mdelta_e_cmc(\n\u001b[1;32m     94\u001b[0m     color1_vector, color2_matrix, pl\u001b[38;5;241m=\u001b[39mpl, pc\u001b[38;5;241m=\u001b[39mpc)[\u001b[38;5;241m0\u001b[39m]\n\u001b[0;32m---> 95\u001b[0m \u001b[38;5;28;01mreturn\u001b[39;00m \u001b[43mnumpy\u001b[49m\u001b[38;5;241;43m.\u001b[39;49m\u001b[43masscalar\u001b[49m(delta_e)\n",
      "File \u001b[0;32m~/opt/anaconda3/envs/Mag/lib/python3.10/site-packages/numpy/__init__.py:320\u001b[0m, in \u001b[0;36m__getattr__\u001b[0;34m(attr)\u001b[0m\n\u001b[1;32m    317\u001b[0m     \u001b[38;5;28;01mfrom\u001b[39;00m \u001b[38;5;21;01m.\u001b[39;00m\u001b[38;5;21;01mtesting\u001b[39;00m \u001b[38;5;28;01mimport\u001b[39;00m Tester\n\u001b[1;32m    318\u001b[0m     \u001b[38;5;28;01mreturn\u001b[39;00m Tester\n\u001b[0;32m--> 320\u001b[0m \u001b[38;5;28;01mraise\u001b[39;00m \u001b[38;5;167;01mAttributeError\u001b[39;00m(\u001b[38;5;124m\"\u001b[39m\u001b[38;5;124mmodule \u001b[39m\u001b[38;5;132;01m{!r}\u001b[39;00m\u001b[38;5;124m has no attribute \u001b[39m\u001b[38;5;124m\"\u001b[39m\n\u001b[1;32m    321\u001b[0m                      \u001b[38;5;124m\"\u001b[39m\u001b[38;5;132;01m{!r}\u001b[39;00m\u001b[38;5;124m\"\u001b[39m\u001b[38;5;241m.\u001b[39mformat(\u001b[38;5;18m__name__\u001b[39m, attr))\n",
      "\u001b[0;31mAttributeError\u001b[0m: module 'numpy' has no attribute 'asscalar'"
     ]
    }
   ],
   "source": [
    "lab = LabColor(50, 0, 0)\n",
    "print(\"LAB: \" + str(lab))\n",
    "# LCH\n",
    "lch = convert_color(lab, LCHabColor)\n",
    "print(\"LCH: \" + str(lch))\n",
    "# RGB\n",
    "rgb = convert_color(lab, sRGBColor)\n",
    "print(\"RGB: \" + str(rgb))\n",
    "# HSB\n",
    "hsb = convert_color(rgb, HSVColor)\n",
    "print(\"HSB: \" + str(hsb))\n",
    "# HSL\n",
    "hsl = convert_color(rgb, HSLColor)\n",
    "print(\"HSL: \" + str(hsl))\n",
    "\n",
    "#revert\n",
    "lch_ = convert_color(lch, LabColor)\n",
    "rgb_ = convert_color(rgb, LabColor)\n",
    "hsb_ = convert_color(hsb, LabColor)\n",
    "hsl_ = convert_color(hsl, LabColor)\n",
    "\n",
    "print(\"Revert LCH: \" + str(lch_))\n",
    "print(\"Revert RGB: \" + str(rgb_))\n",
    "print(\"Revert HSB: \" + str(hsb_))\n",
    "print(\"Revert HSL: \" + str(hsl_))\n",
    "\n",
    "eLCH = delta_e_cmc(lab, lch_)\n",
    "eRGB = delta_e_cmc(lab, rgb_)\n",
    "eHSB = delta_e_cmc(lab, hsb_)\n",
    "eHSL = delta_e_cmc(lab, hsl_)\n",
    "\n",
    "print(\"delta_e\")\n",
    "print(eLCH)\n",
    "print(eRGB)\n",
    "print(eHSB)\n",
    "print(eHSL)\n",
    "\n",
    "eLCH = delta_e_cie1994(lab, lch_)\n",
    "eRGB = delta_e_cie1994(lab, rgb_)\n",
    "eHSB = delta_e_cie1994(lab, hsb_)\n",
    "eHSL = delta_e_cie1994(lab, hsl_)\n",
    "\n",
    "print(\"delta_e_1994\")\n",
    "print(eLCH)\n",
    "print(eRGB)\n",
    "print(eHSB)\n",
    "print(eHSL)\n",
    "\n",
    "eLCH = delta_e_cie2000(lab, lch_)\n",
    "eRGB = delta_e_cie2000(lab, rgb_)\n",
    "eHSB = delta_e_cie2000(lab, hsb_)\n",
    "eHSL = delta_e_cie2000(lab, hsl_)\n",
    "\n",
    "print(\"delta_e_2000\")\n",
    "print(eLCH)\n",
    "print(eRGB)\n",
    "print(eHSB)\n",
    "print(eHSL)"
   ]
  },
  {
   "cell_type": "code",
   "execution_count": null,
   "metadata": {},
   "outputs": [],
   "source": []
  }
 ],
 "metadata": {
  "kernelspec": {
   "display_name": "Mag",
   "language": "python",
   "name": "python3"
  },
  "language_info": {
   "codemirror_mode": {
    "name": "ipython",
    "version": 3
   },
   "file_extension": ".py",
   "mimetype": "text/x-python",
   "name": "python",
   "nbconvert_exporter": "python",
   "pygments_lexer": "ipython3",
   "version": "3.10.10"
  },
  "orig_nbformat": 4
 },
 "nbformat": 4,
 "nbformat_minor": 2
}
