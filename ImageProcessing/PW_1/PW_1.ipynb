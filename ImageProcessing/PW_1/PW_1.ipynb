{
 "cells": [
  {
   "cell_type": "code",
   "execution_count": 1,
   "metadata": {},
   "outputs": [
    {
     "name": "stdout",
     "output_type": "stream",
     "text": [
      "Collecting colormath\n",
      "  Downloading colormath-3.0.0.tar.gz (39 kB)\n",
      "  Preparing metadata (setup.py): started\n",
      "  Preparing metadata (setup.py): finished with status 'done'\n",
      "Requirement already satisfied: numpy in c:\\users\\gongn\\miniconda3\\envs\\tensorflow\\lib\\site-packages (from colormath) (1.23.3)\n",
      "Requirement already satisfied: networkx>=2.0 in c:\\users\\gongn\\miniconda3\\envs\\tensorflow\\lib\\site-packages (from colormath) (2.8.8)\n",
      "Building wheels for collected packages: colormath\n",
      "  Building wheel for colormath (setup.py): started\n",
      "  Building wheel for colormath (setup.py): finished with status 'done'\n",
      "  Created wheel for colormath: filename=colormath-3.0.0-py3-none-any.whl size=39410 sha256=65f12b527ce7ffc74e9638a23f30ec55cd7c103dc32d7cda66f433824133fbb4\n",
      "  Stored in directory: c:\\users\\gongn\\appdata\\local\\pip\\cache\\wheels\\41\\fc\\b0\\725cea6b023e17948a084b1111b4941299859d468c4407e01d\n",
      "Successfully built colormath\n",
      "Installing collected packages: colormath\n",
      "Successfully installed colormath-3.0.0\n",
      "Note: you may need to restart the kernel to use updated packages.\n"
     ]
    }
   ],
   "source": [
    "pip install colormath"
   ]
  },
  {
   "cell_type": "code",
   "execution_count": 2,
   "metadata": {},
   "outputs": [],
   "source": [
    "from colormath.color_objects import LabColor, HSLColor, HSVColor,LCHabColor,sRGBColor, sRGBColor\n",
    "from colormath.color_conversions import convert_color\n",
    "from colormath.color_diff import delta_e_cie2000, delta_e_cmc, delta_e_cie1994\n",
    "\n"
   ]
  },
  {
   "cell_type": "code",
   "execution_count": 4,
   "metadata": {},
   "outputs": [
    {
     "name": "stdout",
     "output_type": "stream",
     "text": [
      "LAB: LabColor (lab_l:50.0000 lab_a:0.0000 lab_b:0.0000)\n",
      "LCH: LCHabColor (lch_l:50.0000 lch_c:0.0000 lch_h:360.0000)\n",
      "RGB: sRGBColor (rgb_r:0.4663 rgb_g:0.4663 rgb_b:0.4663)\n",
      "HSB: HSVColor (hsv_h:35.4825 hsv_s:0.0001 hsv_v:0.4663)\n",
      "HSL: HSLColor (hsl_h:35.4825 hsl_s:0.0001 hsl_l:0.4663)\n",
      "Revert LCH: LabColor (lab_l:50.0000 lab_a:0.0000 lab_b:-0.0000)\n",
      "Revert RGB: LabColor (lab_l:49.9999 lab_a:0.0002 lab_b:-0.0001)\n",
      "Revert HSB: LabColor (lab_l:49.9999 lab_a:0.0002 lab_b:-0.0001)\n",
      "Revert HSL: LabColor (lab_l:49.9999 lab_a:0.0002 lab_b:-0.0001)\n",
      "delta_e\n",
      "0.0\n",
      "0.0003652133589747085\n",
      "0.0003652133589747085\n",
      "0.0003652133589747085\n",
      "delta_e_1994\n",
      "0.0\n",
      "0.00024766315832539676\n",
      "0.00024766315832539676\n",
      "0.00024766315832539676\n",
      "delta_e_2000\n",
      "0.0\n",
      "0.0003218232243404246\n",
      "0.0003218232243404246\n",
      "0.0003218232243404246\n"
     ]
    }
   ],
   "source": [
    "lab = LabColor(50, 0, 0)\n",
    "print(\"LAB: \" + str(lab))\n",
    "# LCH\n",
    "lch = convert_color(lab, LCHabColor)\n",
    "print(\"LCH: \" + str(lch))\n",
    "# RGB\n",
    "rgb = convert_color(lab, sRGBColor)\n",
    "print(\"RGB: \" + str(rgb))\n",
    "# HSB\n",
    "hsb = convert_color(rgb, HSVColor)\n",
    "print(\"HSB: \" + str(hsb))\n",
    "# HSL\n",
    "hsl = convert_color(rgb, HSLColor)\n",
    "print(\"HSL: \" + str(hsl))\n",
    "\n",
    "#revert\n",
    "lch_ = convert_color(lch, LabColor)\n",
    "rgb_ = convert_color(rgb, LabColor)\n",
    "hsb_ = convert_color(hsb, LabColor)\n",
    "hsl_ = convert_color(hsl, LabColor)\n",
    "\n",
    "print(\"Revert LCH: \" + str(lch_))\n",
    "print(\"Revert RGB: \" + str(rgb_))\n",
    "print(\"Revert HSB: \" + str(hsb_))\n",
    "print(\"Revert HSL: \" + str(hsl_))\n",
    "\n",
    "eLCH = delta_e_cmc(lab, lch_)\n",
    "eRGB = delta_e_cmc(lab, rgb_)\n",
    "eHSB = delta_e_cmc(lab, hsb_)\n",
    "eHSL = delta_e_cmc(lab, hsl_)\n",
    "\n",
    "print(\"delta_e\")\n",
    "print(eLCH)\n",
    "print(eRGB)\n",
    "print(eHSB)\n",
    "print(eHSL)\n",
    "\n",
    "eLCH = delta_e_cie1994(lab, lch_)\n",
    "eRGB = delta_e_cie1994(lab, rgb_)\n",
    "eHSB = delta_e_cie1994(lab, hsb_)\n",
    "eHSL = delta_e_cie1994(lab, hsl_)\n",
    "\n",
    "print(\"delta_e_1994\")\n",
    "print(eLCH)\n",
    "print(eRGB)\n",
    "print(eHSB)\n",
    "print(eHSL)\n",
    "\n",
    "eLCH = delta_e_cie2000(lab, lch_)\n",
    "eRGB = delta_e_cie2000(lab, rgb_)\n",
    "eHSB = delta_e_cie2000(lab, hsb_)\n",
    "eHSL = delta_e_cie2000(lab, hsl_)\n",
    "\n",
    "print(\"delta_e_2000\")\n",
    "print(eLCH)\n",
    "print(eRGB)\n",
    "print(eHSB)\n",
    "print(eHSL)"
   ]
  },
  {
   "cell_type": "code",
   "execution_count": null,
   "metadata": {},
   "outputs": [],
   "source": []
  }
 ],
 "metadata": {
  "kernelspec": {
   "display_name": "Mag",
   "language": "python",
   "name": "python3"
  },
  "language_info": {
   "codemirror_mode": {
    "name": "ipython",
    "version": 3
   },
   "file_extension": ".py",
   "mimetype": "text/x-python",
   "name": "python",
   "nbconvert_exporter": "python",
   "pygments_lexer": "ipython3",
   "version": "3.9.13"
  },
  "orig_nbformat": 4
 },
 "nbformat": 4,
 "nbformat_minor": 2
}
